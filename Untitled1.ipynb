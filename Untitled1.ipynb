{
 "cells": [
  {
   "cell_type": "code",
   "execution_count": 9,
   "metadata": {},
   "outputs": [
    {
     "data": {
      "text/plain": [
       "Call:corr.test(x = assignment[2:6])\n",
       "Correlation matrix \n",
       "                 Grade Words_per_minute Proofreading Spreadsheet Statistics\n",
       "Grade             1.00             0.32         0.01       -0.02       0.08\n",
       "Words_per_minute  0.32             1.00         0.71       -0.61      -0.07\n",
       "Proofreading      0.01             0.71         1.00       -0.79      -0.12\n",
       "Spreadsheet      -0.02            -0.61        -0.79        1.00       0.12\n",
       "Statistics        0.08            -0.07        -0.12        0.12       1.00\n",
       "Sample Size \n",
       "[1] 35\n",
       "Probability values (Entries above the diagonal are adjusted for multiple tests.) \n",
       "                 Grade Words_per_minute Proofreading Spreadsheet Statistics\n",
       "Grade             0.00             0.45          1.0        1.00          1\n",
       "Words_per_minute  0.06             0.00          0.0        0.00          1\n",
       "Proofreading      0.97             0.00          0.0        0.00          1\n",
       "Spreadsheet       0.89             0.00          0.0        0.00          1\n",
       "Statistics        0.66             0.68          0.5        0.51          0\n",
       "\n",
       " To see confidence intervals of the correlations, print with the short=FALSE option"
      ]
     },
     "metadata": {},
     "output_type": "display_data"
    },
    {
     "name": "stdout",
     "output_type": "stream",
     "text": [
      "[1] \"tau value\"\n"
     ]
    },
    {
     "data": {
      "text/html": [
       "-0.571428780504085"
      ],
      "text/latex": [
       "-0.571428780504085"
      ],
      "text/markdown": [
       "-0.571428780504085"
      ],
      "text/plain": [
       "[1] -0.5714288"
      ]
     },
     "metadata": {},
     "output_type": "display_data"
    },
    {
     "name": "stdout",
     "output_type": "stream",
     "text": [
      "[1] \"rho value\"\n"
     ]
    },
    {
     "data": {
      "text/html": [
       "-0.743073579719433"
      ],
      "text/latex": [
       "-0.743073579719433"
      ],
      "text/markdown": [
       "-0.743073579719433"
      ],
      "text/plain": [
       "[1] -0.7430736"
      ]
     },
     "metadata": {},
     "output_type": "display_data"
    },
    {
     "name": "stdout",
     "output_type": "stream",
     "text": [
      "\n",
      "Call:\n",
      "lm(formula = Proofreading ~ Words_per_minute, data = assignment)\n",
      "\n",
      "Coefficients:\n",
      "     (Intercept)  Words_per_minute  \n",
      "         19.7090            0.9507  \n",
      "\n",
      "[1] \"P value is \"\n",
      "[1] 2.339872e-06\n",
      "[1] \"R squared value \"\n",
      "[1] 0.5099512\n",
      "[1] \"The linear Regression model is not an appropriate model since the r squared value is less than 0.7\"\n",
      "[1] \"low R-square and low p-value (p-value <= 0.05)  means that your model doesn't explain much of variation of the data but it is significant\"\n"
     ]
    },
    {
     "data": {
      "image/png": "[encoded data removed]",
      "text/plain": [
       "plot without title"
      ]
     },
     "metadata": {},
     "output_type": "display_data"
    }
   ],
   "source": [
    "#question a\n",
    "assignment<-read.csv(\"assignment.csv\")\n",
    "library(psych)\n",
    "corr.test(assignment[2:6])\n",
    "#o/p Correlation matrix \n",
    "#Grade Words_per_minute Proofreading Spreadsheet Statistics\n",
    "#Grade             1.00             0.32         0.01       -0.02       0.08\n",
    "#Words_per_minute  0.32             1.00         0.71       -0.61      -0.07\n",
    "#Proofreading      0.01             0.71         1.00       -0.79      -0.12\n",
    "#Spreadsheet      -0.02            -0.61        -0.79        1.00       0.12\n",
    "#Statistics        0.08            -0.07        -0.12        0.12       1.00\n",
    "#Sample Size \n",
    "#this gives the correlation matrix, using which we can conclude words_per_minute and Proofreading as strongly related.corelation coefficient =0.71\n",
    "#question b\n",
    "#proofreading and grade are statistically uncorrelated,value=0.01\n",
    "#question c\n",
    "#words_per_minute and proofreading are positively correlated, value=0.71\n",
    "#question d\n",
    "#proofreading and spreadsheet are negatively corelated with highest corelation coefficient=-0.79\n",
    "#question e\n",
    "#1 -0.79\n",
    "#2\n",
    "print(\"tau value\")\n",
    "cor(assignment$Proofreading,assignment$Spreadsheet,method='kendall')\n",
    "\n",
    "#-0.5714288 tau value\n",
    "#3\n",
    "print(\"rho value\")\n",
    "cor(assignment$Proofreading,assignment$Spreadsheet,method='spearman')\n",
    "#-0.7430736\n",
    "#question f\n",
    "linearMod <- lm(Proofreading ~ Words_per_minute, data=assignment)\n",
    "print(linearMod)\n",
    "#o/p Coefficients:\n",
    "#(Intercept)  Words_per_minute  \n",
    "#19.7090            0.9507  \n",
    "scatter.smooth(assignment$Proofreading,assignment$Words_per_minute)\n",
    "#1 calc p value\n",
    "modelSummary <- summary(linearMod)  # capture model summary as an object\n",
    "modelCoeffs <- modelSummary$coefficients  # model coefficients\n",
    "beta.estimate <- modelCoeffs[\"Words_per_minute\", \"Estimate\"]  # get beta estimate for speed\n",
    "std.error <- modelCoeffs[\"Words_per_minute\", \"Std. Error\"]  # get std.error for speed\n",
    "t_value <- beta.estimate/std.error  # calc t statistic\n",
    "print(\"P value is \")\n",
    "p_value <- 2*pt(-abs(t_value), df=nrow(assignment)-ncol(assignment)) \n",
    "print(p_value)\n",
    "# calc p Value\n",
    "# 2.339872e-06\n",
    "#2 calc r^2\n",
    "z<-summary(linearMod)$r.squared\n",
    "print(\"R squared value \")\n",
    "print(z)\n",
    "#0/p 0.5099512\n",
    "print(\"The linear Regression model is not an appropriate model since the r squared value is less than 0.7\")\n",
    "print(\"low R-square and low p-value (p-value <= 0.05)  means that your model doesn't explain much of variation of the data but it is significant\") \n"
   ]
  },
  {
   "cell_type": "code",
   "execution_count": 4,
   "metadata": {},
   "outputs": [
    {
     "name": "stderr",
     "output_type": "stream",
     "text": [
      "Installing package into ‘/srv/rlibs’\n",
      "(as ‘lib’ is unspecified)\n",
      "also installing the dependency ‘mnormt’\n",
      "\n"
     ]
    }
   ],
   "source": [
    "install.packages('psych')\n"
   ]
  }
 ],
 "metadata": {
  "kernelspec": {
   "display_name": "R",
   "language": "R",
   "name": "ir"
  },
  "language_info": {
   "codemirror_mode": "r",
   "file_extension": ".r",
   "mimetype": "text/x-r-source",
   "name": "R",
   "pygments_lexer": "r",
   "version": "3.6.2"
  }
 },
 "nbformat": 4,
 "nbformat_minor": 2
}
